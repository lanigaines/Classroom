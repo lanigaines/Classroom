{
  "cells": [
    {
      "cell_type": "markdown",
      "metadata": {
        "id": "view-in-github",
        "colab_type": "text"
      },
      "source": [
        "<a href=\"https://colab.research.google.com/github/lanigaines/Classroom/blob/master/ch00.ipynb\" target=\"_parent\"><img src=\"https://colab.research.google.com/assets/colab-badge.svg\" alt=\"Open In Colab\"/></a>"
      ]
    },
    {
      "cell_type": "code",
      "source": [],
      "metadata": {
        "id": "DrB7wWsdKmO_"
      },
      "execution_count": null,
      "outputs": []
    },
    {
      "cell_type": "code",
      "source": [],
      "metadata": {
        "id": "pVEAATNPfb2y"
      },
      "execution_count": null,
      "outputs": []
    },
    {
      "cell_type": "code",
      "source": [],
      "metadata": {
        "id": "j-rMej0mfcGy"
      },
      "execution_count": null,
      "outputs": []
    },
    {
      "cell_type": "code",
      "source": [],
      "metadata": {
        "id": "YMcM4IirfcQr"
      },
      "execution_count": null,
      "outputs": []
    },
    {
      "cell_type": "code",
      "source": [
        "# Ask the user to input temperature in Celsius\n",
        "celsius = float(input(\"Enter temperature in Celsius: \"))\n",
        "\n",
        "# Convert Celsius to Fahrenheit using the given formula\n",
        "fahrenheit = (9/5) * celsius + 32\n",
        "\n",
        "# Display the result\n",
        "print(f'Temperature in Fahrenheit: {fahrenheit:.2f}')"
      ],
      "metadata": {
        "colab": {
          "base_uri": "https://localhost:8080/"
        },
        "id": "n-S7o9G7fcZh",
        "outputId": "4d44d572-c09a-4f92-b625-ffbc5c04fc7e"
      },
      "execution_count": 63,
      "outputs": [
        {
          "output_type": "stream",
          "name": "stdout",
          "text": [
            "Enter temperature in Celsius: 23\n",
            "Temperature in Fahrenheit: 73.40\n"
          ]
        }
      ]
    },
    {
      "source": [
        "# Ask for user input\n",
        "male_students = int(input(\"Enter the number of male students: \"))\n",
        "female_students = int(input(\"Enter the number of female students: \"))\n",
        "non_binary_students = int(input(\"Enter the number of non-binary students: \"))\n",
        "\n",
        "# Calculate total number of students\n",
        "total_students = male_students + female_students + non_binary_students\n",
        "\n",
        "# Calculate percentages\n",
        "m_perc = (male_students / total_students) * 100\n",
        "f_perc = (female_students / total_students) * 100\n",
        "nb_perc = (non_binary_students / total_students) * 100\n",
        "\n",
        "# Print results\n",
        "print(f\"The total number of students: {total_students}\")\n",
        "print(f\"The number of males, females and non-binary: {male_students} {female_students} {non_binary_students}\")\n",
        "print(f\"The percentage of males, females and non-binary: {m_perc:.2f}% {f_perc:.2f}% {nb_perc:.2f}%\")\n"
      ],
      "cell_type": "code",
      "metadata": {
        "colab": {
          "base_uri": "https://localhost:8080/"
        },
        "id": "tiaUMljKgN8a",
        "outputId": "441cfa61-cd0f-4159-922b-62224f678fe9"
      },
      "execution_count": 62,
      "outputs": [
        {
          "output_type": "stream",
          "name": "stdout",
          "text": [
            "Enter the number of male students: 40\n",
            "Enter the number of female students: 40\n",
            "Enter the number of non-binary students: 20\n",
            "The total number of students: 100\n",
            "The number of males, females and non-binary: 40 40 20\n",
            "The percentage of males, females and non-binary: 40.00% 40.00% 20.00%\n"
          ]
        }
      ]
    },
    {
      "cell_type": "code",
      "source": [
        "original_str = \"Python Programming\"\n",
        "\n",
        "# 1) Extract \"Python\" from original string with index slicing\n",
        "sub1 = original_str[:6]  # extract the first substring 'Python'\n",
        "\n",
        "# 2) Extract \"Programming\" from original string with index slicing\n",
        "sub2 = original_str[7:]  # extract the second substring 'Programming'\n",
        "\n",
        "# 3) Using the string concatenation('+'),\n",
        "# merge two substrings sub2 and sub1 and save it to \"merged_str\"\n",
        "merged_str = sub2 + \" \" + sub1\n",
        "\n",
        "# Print results\n",
        "print(sub2)\n",
        "print(sub1)\n",
        "print(merged_str)"
      ],
      "metadata": {
        "colab": {
          "base_uri": "https://localhost:8080/"
        },
        "id": "OKfFBq71fcfg",
        "outputId": "cd65a7ad-4e40-4b44-b62f-631ff3e74793"
      },
      "execution_count": 57,
      "outputs": [
        {
          "output_type": "stream",
          "name": "stdout",
          "text": [
            "Programming\n",
            "Python\n",
            "Programming Python\n"
          ]
        }
      ]
    },
    {
      "cell_type": "code",
      "source": [
        "# String examples\n",
        "firstName = \"Kyu\"\n",
        "lastName = \"Lee\"\n",
        "\n",
        "# String concatenation\n",
        "fullName = firstName + \" \" + lastName\n",
        "print(\"Full name:\", fullName)\n",
        "\n",
        "# String length\n",
        "print(\"Length of first name:\", len(firstName))\n",
        "\n",
        "# String replication\n",
        "repeatedName = firstName * 3\n",
        "print(\"Repeated name:\", repeatedName)\n",
        "\n",
        "# Demonstrating quotation usage\n",
        "singleQuotes = 'Alice'\n",
        "doubleQuotes = \"Bob\"\n",
        "print(\"Single quotes:\", singleQuotes)\n",
        "print(\"Double quotes:\", doubleQuotes)\n",
        "\n",
        "# String concatenation example\n",
        "greeting = singleQuotes + \" + \" + doubleQuotes\n",
        "print(\"Greeting:\", greeting)\n",
        "\n",
        "# Uncommenting the following lines would cause errors:\n",
        "# error1 = 'Alice' + 42\n",
        "# error2 = 'Alice' + 'Bob'"
      ],
      "metadata": {
        "colab": {
          "base_uri": "https://localhost:8080/"
        },
        "id": "JzG34ku1KmLm",
        "outputId": "e7c3a292-130b-479a-b02d-061a866836a4"
      },
      "execution_count": 56,
      "outputs": [
        {
          "output_type": "stream",
          "name": "stdout",
          "text": [
            "Full name: Kyu Lee\n",
            "Length of first name: 3\n",
            "Repeated name: KyuKyuKyu\n",
            "Single quotes: Alice\n",
            "Double quotes: Bob\n",
            "Greeting: Alice + Bob\n"
          ]
        }
      ]
    },
    {
      "cell_type": "code",
      "source": [
        "# Input three integer values\n",
        "val1 = int(input(\"Enter the first integer value: \"))\n",
        "val2 = int(input(\"Enter the second integer value: \"))\n",
        "val3 = int(input(\"Enter the third integer value: \"))\n",
        "\n",
        "# Calculate the total and average\n",
        "total = val1 + val2 + val3\n",
        "average = total / 3\n",
        "\n",
        "# Print the results\n",
        "print(f\"Values: {val1} {val2} {val3}\")\n",
        "print(f\"Total: {total}\")\n",
        "print(f\"Average: {average:.2f}\")"
      ],
      "metadata": {
        "colab": {
          "base_uri": "https://localhost:8080/"
        },
        "id": "161kW4h6Kl_H",
        "outputId": "176477b5-330a-4071-a2bf-fd132792b578"
      },
      "execution_count": 55,
      "outputs": [
        {
          "output_type": "stream",
          "name": "stdout",
          "text": [
            "Enter the first integer value: 100\n",
            "Enter the second integer value: 90\n",
            "Enter the third integer value: 110\n",
            "Values: 100 90 110\n",
            "Total: 300\n",
            "Average: 100.00\n"
          ]
        }
      ]
    },
    {
      "cell_type": "code",
      "source": [
        "value = 10\n",
        "print(f'The value is {value}')\n",
        "print(f'The value is {value:20}')\n",
        "\n",
        "fvalue = 12.34\n",
        "print(f'The value is {fvalue:>10}')\n",
        "print(f'The value is {fvalue:.5f}')\n",
        "\n",
        "strval = \"Python Programming\"\n",
        "print(f'The string value is {strval:>50}')"
      ],
      "metadata": {
        "colab": {
          "base_uri": "https://localhost:8080/"
        },
        "id": "D98XF_fuKl8P",
        "outputId": "61581f77-b2aa-46f0-d2d6-78c4e8a95e18"
      },
      "execution_count": 54,
      "outputs": [
        {
          "output_type": "stream",
          "name": "stdout",
          "text": [
            "The value is 10\n",
            "The value is                   10\n",
            "The value is      12.34\n",
            "The value is 12.34000\n",
            "The string value is                                 Python Programming\n"
          ]
        }
      ]
    },
    {
      "cell_type": "code",
      "source": [
        "# Correct usage of .format()\n",
        "print('{0} and {1}'.format('spam', 'eggs'))\n",
        "print('{1} and {0}'.format('spam', 'eggs'))\n",
        "\n",
        "# Fixing the mismatched curly braces\n",
        "print('This {food} is {adjective}'.format(food='spam', adjective='absolutely horrible'))\n",
        "\n",
        "# Assuming num1, num2, and num3 are defined, this line is correct\n",
        "# num1, num2, num3 = 1, 22, 333  # Uncomment and adjust these values as needed\n",
        "print('{0:2d} {1:3d} {2:4d}'.format(num1, num2, num3))\n",
        "\n",
        "# This line is correct\n",
        "print('The average is {0:.2f}'.format(59.999999))"
      ],
      "metadata": {
        "colab": {
          "base_uri": "https://localhost:8080/"
        },
        "collapsed": true,
        "id": "fD1iid9qKl42",
        "outputId": "d7c85cad-a485-4d15-cb03-be8d337f815a"
      },
      "execution_count": 53,
      "outputs": [
        {
          "output_type": "stream",
          "name": "stdout",
          "text": [
            "spam and eggs\n",
            "eggs and spam\n",
            "This spam is absolutely horrible\n",
            " 1   4    7\n",
            "The average is 60.00\n"
          ]
        }
      ]
    },
    {
      "source": [
        "val1 = 100 # Fix the typo in the variable name\n",
        "val2 = 1234.5678\n",
        "strval = \"COMSC140\"\n",
        "\n",
        "print (\"Interger value: %d, String Value: %s, Floating Value:%.2f\" % (val1, strval, val2)) # Use %s for string formatting"
      ],
      "cell_type": "code",
      "metadata": {
        "colab": {
          "base_uri": "https://localhost:8080/"
        },
        "id": "ApvsdfRsabuj",
        "outputId": "0c8281da-7af9-4c8a-e0dd-0308cae2d492"
      },
      "execution_count": 48,
      "outputs": [
        {
          "output_type": "stream",
          "name": "stdout",
          "text": [
            "Interger value: 100, String Value: COMSC140, Floating Value:1234.57\n"
          ]
        }
      ]
    },
    {
      "cell_type": "code",
      "source": [
        "val1= 1000\n",
        "print (\"Value 1 is %d\" % (val1))"
      ],
      "metadata": {
        "colab": {
          "base_uri": "https://localhost:8080/"
        },
        "id": "KRNzWuriKlpu",
        "outputId": "78c6d124-da0e-40af-c778-63358e41041a"
      },
      "execution_count": 47,
      "outputs": [
        {
          "output_type": "stream",
          "name": "stdout",
          "text": [
            "Value 1 is 1000\n"
          ]
        }
      ]
    },
    {
      "cell_type": "code",
      "source": [
        "#? New Line Char.\n",
        "print ('one\\n two n three \\n')\n"
      ],
      "metadata": {
        "colab": {
          "base_uri": "https://localhost:8080/"
        },
        "id": "rNy1dEzhKlna",
        "outputId": "a77bde45-267a-431b-da86-1d3e8a4ec9b5"
      },
      "execution_count": 42,
      "outputs": [
        {
          "output_type": "stream",
          "name": "stdout",
          "text": [
            "one\n",
            " two n three \n",
            "\n"
          ]
        }
      ]
    },
    {
      "cell_type": "code",
      "source": [
        "print (\"How to print a special character like ' \")\n",
        "print (\" ' \")\n",
        "print (' \" ')\n",
        "print(' \" ') # This will give an error\n",
        "print(' \" ') # This will give an error"
      ],
      "metadata": {
        "colab": {
          "base_uri": "https://localhost:8080/"
        },
        "id": "CCtxnPi6KlkF",
        "outputId": "3e3dce67-1c66-433d-df6c-7ee628710f9d"
      },
      "execution_count": 40,
      "outputs": [
        {
          "output_type": "stream",
          "name": "stdout",
          "text": [
            "How to print a special character like ' \n",
            " ' \n",
            " \" \n",
            " \" \n",
            " \" \n"
          ]
        }
      ]
    },
    {
      "cell_type": "code",
      "source": [
        "num = input ('Enter your number') #\n",
        "print (num)\n",
        "sum = int (num )+ 100\n",
        "print (sum)\n"
      ],
      "metadata": {
        "colab": {
          "base_uri": "https://localhost:8080/"
        },
        "collapsed": true,
        "id": "cJWVxQWSKldz",
        "outputId": "eaac07be-7316-4d10-bfe1-7ce44dd4b1a2"
      },
      "execution_count": 39,
      "outputs": [
        {
          "output_type": "stream",
          "name": "stdout",
          "text": [
            "Enter your number20\n",
            "20\n",
            "120\n"
          ]
        }
      ]
    },
    {
      "cell_type": "code",
      "source": [
        "original_price = int(input(\"Enter the original price (dollar): \"))\n",
        "rate = int(input(\"Enter the discount rate (percentage): \"))\n",
        "\n",
        "# Calculate discount amount\n",
        "discount_amount = original_price * (rate / 100)\n",
        "\n",
        "# Calculate final price\n",
        "final_price = original_price - discount_amount\n",
        "\n",
        "# Print results\n",
        "print(f\"Original Price : ${original_price}\")\n",
        "print(f\"Discount Amount : ${discount_amount:.2f}\")\n",
        "print(f\"The final price : ${final_price:.2f}\")\n"
      ],
      "metadata": {
        "colab": {
          "base_uri": "https://localhost:8080/"
        },
        "collapsed": true,
        "id": "uuUWo3LCKlVs",
        "outputId": "fcb34e15-ab0e-4267-83e9-03796bbfb911"
      },
      "execution_count": 37,
      "outputs": [
        {
          "output_type": "stream",
          "name": "stdout",
          "text": [
            "Enter the original price (dollar): 200\n",
            "Enter the discount rate (percentage): 20\n",
            "Original Price : $200\n",
            "Discount Amount : $40.00\n",
            "The final price : $160.00\n"
          ]
        }
      ]
    },
    {
      "cell_type": "code",
      "source": [
        "math.floor(1.3) # 1.0\n",
        "math.floor(-1.3) # -2.0)"
      ],
      "metadata": {
        "colab": {
          "base_uri": "https://localhost:8080/"
        },
        "collapsed": true,
        "id": "WkkCD1P0KlF5",
        "outputId": "0e82cd77-6ecc-43a0-9b65-1e44ffa6c4a3"
      },
      "execution_count": 28,
      "outputs": [
        {
          "output_type": "execute_result",
          "data": {
            "text/plain": [
              "-2"
            ]
          },
          "metadata": {},
          "execution_count": 28
        }
      ]
    },
    {
      "cell_type": "code",
      "source": [
        "import math\n",
        "print (math.cos(45))\n",
        "import random\n",
        "print (random.randint(1,10))\n",
        "\n"
      ],
      "metadata": {
        "colab": {
          "base_uri": "https://localhost:8080/"
        },
        "collapsed": true,
        "id": "3aVHbqMkGaTh",
        "outputId": "02ae1b77-1853-44d9-c8d0-ac4332de074d"
      },
      "execution_count": 27,
      "outputs": [
        {
          "output_type": "stream",
          "name": "stdout",
          "text": [
            "0.5253219888177297\n",
            "5\n"
          ]
        }
      ]
    },
    {
      "cell_type": "code",
      "source": [
        "\"\"\"\n",
        "Multiple line comments\n",
        "This section is for comments\n",
        "All lines are ignored by Python Interpreter\n",
        "\"\"\"\n",
        "print (\"Code starts from here\")\n"
      ],
      "metadata": {
        "colab": {
          "base_uri": "https://localhost:8080/"
        },
        "collapsed": true,
        "id": "KcvsFgPQGZcV",
        "outputId": "65cf79ac-4248-4c0a-d4eb-447e5bc8f619"
      },
      "execution_count": 26,
      "outputs": [
        {
          "output_type": "stream",
          "name": "stdout",
          "text": [
            "Code starts from here\n"
          ]
        }
      ]
    },
    {
      "cell_type": "code",
      "source": [
        "num1 = 10\n",
        "print (num1)\n"
      ],
      "metadata": {
        "colab": {
          "base_uri": "https://localhost:8080/"
        },
        "collapsed": true,
        "id": "Emie_PUWGa1o",
        "outputId": "0191c37b-3d29-4477-dc94-b0c2550b48f9"
      },
      "execution_count": 25,
      "outputs": [
        {
          "output_type": "stream",
          "name": "stdout",
          "text": [
            "10\n"
          ]
        }
      ]
    },
    {
      "cell_type": "code",
      "source": [
        "print ('one')\n",
        "print ('two')\n",
        "print ('three')\n",
        "print ('one', end=' ')\n",
        "print ('two', end=' ')\n",
        "print ('three', end=' ')\n",
        "print ('one', 'two', 'three', sep='/'\n",
        "       )"
      ],
      "metadata": {
        "colab": {
          "base_uri": "https://localhost:8080/"
        },
        "collapsed": true,
        "id": "lx6XvhJTGcR0",
        "outputId": "07b6ea0d-5558-44b4-c6bb-1653ae062ec3"
      },
      "execution_count": 41,
      "outputs": [
        {
          "output_type": "stream",
          "name": "stdout",
          "text": [
            "one\n",
            "two\n",
            "three\n",
            "one two three one/two/three\n"
          ]
        }
      ]
    },
    {
      "cell_type": "code",
      "source": [
        "print (format(12345.6789, '.2%'))\n",
        "print (format(12345.6789, 'e'))\n",
        "print (format(12345.6789, '.2e'))\n",
        "1.23e+04\n"
      ],
      "metadata": {
        "colab": {
          "base_uri": "https://localhost:8080/"
        },
        "collapsed": true,
        "id": "MrpHDrYiF2K5",
        "outputId": "e3bea819-b969-4f10-8506-c372c1c1477a"
      },
      "execution_count": 23,
      "outputs": [
        {
          "output_type": "stream",
          "name": "stdout",
          "text": [
            "1234567.89%\n",
            "1.234568e+04\n",
            "1.23e+04\n"
          ]
        },
        {
          "output_type": "execute_result",
          "data": {
            "text/plain": [
              "12300.0"
            ]
          },
          "metadata": {},
          "execution_count": 23
        }
      ]
    },
    {
      "cell_type": "code",
      "source": [
        "print (format(12345.6789, 'e'))\n",
        "print (format(12345.6789, '.2e'))\n",
        "1.234568e+04\n",
        "1.23e+04\n"
      ],
      "metadata": {
        "colab": {
          "base_uri": "https://localhost:8080/"
        },
        "collapsed": true,
        "id": "Z2QPcv3SFdEJ",
        "outputId": "380471e6-83b4-438d-e041-f83dbdd2f063"
      },
      "execution_count": 20,
      "outputs": [
        {
          "output_type": "stream",
          "name": "stdout",
          "text": [
            "1.234568e+04\n",
            "1.23e+04\n"
          ]
        },
        {
          "output_type": "execute_result",
          "data": {
            "text/plain": [
              "12300.0"
            ]
          },
          "metadata": {},
          "execution_count": 20
        }
      ]
    },
    {
      "cell_type": "code",
      "source": [
        "#? Inserting comma sererator\n",
        "print (format(123456789.12345, ',.2f'))\n",
        "123,456,789.12\n"
      ],
      "metadata": {
        "colab": {
          "base_uri": "https://localhost:8080/"
        },
        "collapsed": true,
        "id": "Q3542fhnFE2P",
        "outputId": "91bde76b-d448-4924-e53d-60f12a059ed6"
      },
      "execution_count": 19,
      "outputs": [
        {
          "output_type": "stream",
          "name": "stdout",
          "text": [
            "123,456,789.12\n"
          ]
        },
        {
          "output_type": "execute_result",
          "data": {
            "text/plain": [
              "(123, 456, 789.12)"
            ]
          },
          "metadata": {},
          "execution_count": 19
        }
      ]
    },
    {
      "cell_type": "code",
      "source": [
        "print (format(123456789, '15d'))\n",
        "print (format(123456789, '.2f'))\n",
        "123456789\n",
        "12345.68\n"
      ],
      "metadata": {
        "colab": {
          "base_uri": "https://localhost:8080/"
        },
        "collapsed": true,
        "id": "U-o4E5A3Dw_D",
        "outputId": "b5d005cf-1256-4045-d94e-4ac969adf756"
      },
      "execution_count": 18,
      "outputs": [
        {
          "output_type": "stream",
          "name": "stdout",
          "text": [
            "      123456789\n",
            "123456789.00\n"
          ]
        },
        {
          "output_type": "execute_result",
          "data": {
            "text/plain": [
              "12345.68"
            ]
          },
          "metadata": {},
          "execution_count": 18
        }
      ]
    },
    {
      "cell_type": "code",
      "source": [
        "reg_hours = 40\n",
        "reg_rate = 18.25\n",
        "ov_rate = 27.78\n",
        "overtime_hours = 10\n",
        "regular_wage = 40\n",
        "overtime_wage = 10\n",
        "total_wage = 0\n",
        "\n",
        "# Input\n",
        "hours_worked = float(input(\"Enter the number of hours worked: \"))\n",
        "\n",
        "# Calculate\n",
        "if hours_worked <= reg_hours:\n",
        "    total_wage = hours_worked * reg_rate\n",
        "    overtime_wage = 0\n",
        "else:\n",
        "    regular_wage = reg_hours * reg_rate\n",
        "    overtime_hours = hours_worked - reg_hours\n",
        "    overtime_wage = overtime_hours * ov_rate\n",
        "total_wage = regular_wage + overtime_wage\n",
        "\n",
        "# Output\n",
        "print(\"Total wage: $\", total_wage)\n",
        "print(\"Regular wage: $\", regular_wage)\n",
        "print(\"Overtime wage: $\", overtime_wage)\n",
        "\n"
      ],
      "metadata": {
        "id": "l2Sk2PgV52Mz",
        "colab": {
          "base_uri": "https://localhost:8080/"
        },
        "collapsed": true,
        "outputId": "a19a85a2-0474-45d8-a28c-0eb962d2c1f6"
      },
      "execution_count": 13,
      "outputs": [
        {
          "output_type": "stream",
          "name": "stdout",
          "text": [
            "Enter the number of hours worked: 95\n",
            "Total wage: $ 2257.9\n",
            "Regular wage: $ 730.0\n",
            "Overtime wage: $ 1527.9\n"
          ]
        }
      ]
    },
    {
      "cell_type": "code",
      "source": [
        "print ( 'Hello World')\n",
        "\n",
        " #The output of the above code is:\n",
        " #Hello World"
      ],
      "metadata": {
        "colab": {
          "base_uri": "https://localhost:8080/"
        },
        "id": "Fq31tGQmajX_",
        "outputId": "98b590f7-f0e4-40c5-ff12-75fe67fea6f7",
        "collapsed": true
      },
      "execution_count": 38,
      "outputs": [
        {
          "output_type": "stream",
          "name": "stdout",
          "text": [
            "Hello World\n"
          ]
        }
      ]
    },
    {
      "cell_type": "markdown",
      "metadata": {
        "id": "8hOkI6bnKowb"
      },
      "source": []
    },
    {
      "cell_type": "markdown",
      "metadata": {
        "id": "SGUbR07hKowd"
      },
      "source": [
        "# <p style=\"font-family: Arial; font-size:1.4em;color:gold;\"> Jupyter Notebook </p>\n",
        "<img src=\"https://miro.medium.com/v2/resize:fit:1400/1*RzxZF0mmXAsMLrIzAWYDSg.png\" alt=\"Drawing\" style=\"width: 400px;\"/>"
      ]
    },
    {
      "cell_type": "markdown",
      "metadata": {
        "id": "X89KrbjbKowe"
      },
      "source": [
        "### Please run the below code by clicking the small \"play\" button on the left of the cell"
      ]
    },
    {
      "cell_type": "code",
      "execution_count": 15,
      "metadata": {
        "colab": {
          "base_uri": "https://localhost:8080/"
        },
        "id": "SeYPigbZKowe",
        "outputId": "d2eb2eb8-6809-4051-f9d1-40956e349acf"
      },
      "outputs": [
        {
          "output_type": "stream",
          "name": "stdout",
          "text": [
            "Hello World\n"
          ]
        }
      ],
      "source": [
        "print('Hello World')\n",
        "b = 2"
      ]
    },
    {
      "cell_type": "markdown",
      "metadata": {
        "id": "m29LOQb2Kowg"
      },
      "source": []
    },
    {
      "cell_type": "code",
      "execution_count": 16,
      "metadata": {
        "id": "f6rYwzwtKowh"
      },
      "outputs": [],
      "source": [
        "# https://colab.research.google.com/drive/1UeK92P393sldbSlZeclKOpKzp3LaRBN9#scrollTo=r6FtYXf3bukJ&line=2&uniqifier=1\n"
      ]
    },
    {
      "cell_type": "code",
      "execution_count": 17,
      "metadata": {
        "id": "9EN4lV4NKowh",
        "colab": {
          "base_uri": "https://localhost:8080/"
        },
        "outputId": "7e826fa1-0ce7-4614-d501-b03081757209"
      },
      "outputs": [
        {
          "output_type": "stream",
          "name": "stdout",
          "text": [
            "Hello World\n"
          ]
        }
      ],
      "source": [
        "print ('Hello World')"
      ]
    },
    {
      "cell_type": "markdown",
      "metadata": {
        "id": "f6pu_SYBKowi"
      },
      "source": [
        "# <p style=\"font-family: Arial; font-size:1.4em;color:gold;\"> Jupyter Notebook </p>\n",
        "<img src=\"https://miro.medium.com/v2/resize:fit:1400/1*RzxZF0mmXAsMLrIzAWYDSg.png\" alt=\"Drawing\" style=\"width: 400px;\"/>"
      ]
    },
    {
      "cell_type": "markdown",
      "metadata": {
        "id": "1SguD14xKowj"
      },
      "source": [
        "# <p style=\"font-family: Arial; font-size:1.4em;color:gold;\"> Jupyter Notebook </p>\n",
        "<img src=\"https://miro.medium.com/v2/resize:fit:1400/1*RzxZF0mmXAsMLrIzAWYDSg.png\" ing\" style=\"width: 400px;\"/>alt=\"Draw"
      ]
    },
    {
      "cell_type": "markdown",
      "metadata": {
        "id": "on1K3o7bKowj"
      },
      "source": [
        "# Task 1. Complete the following instructions"
      ]
    },
    {
      "cell_type": "markdown",
      "metadata": {
        "id": "lZhzASKjKowk"
      },
      "source": [
        "### Press \"ESC\"\n",
        "### Create a \"Code Cell\" by typing \"b\"\n",
        "### Make the same code to print \"Hello World\"\n",
        "### Run it\n",
        "### Try to move the cell by \"alt - up / down\" in VS Code or \"Ctrl-M J/K\" in Google Colab"
      ]
    },
    {
      "cell_type": "markdown",
      "metadata": {
        "id": "t-1yjlsRKowk"
      },
      "source": [
        "\n",
        "# Task 2\n",
        "### Create a \"Markdown Cell\"\n",
        "### Add a image in your \"Markdown Cell\" (Refer to the 1st Cell in this notebook file)"
      ]
    }
  ],
  "metadata": {
    "kernelspec": {
      "display_name": "base",
      "language": "python",
      "name": "python3"
    },
    "language_info": {
      "codemirror_mode": {
        "name": "ipython",
        "version": 3
      },
      "file_extension": ".py",
      "mimetype": "text/x-python",
      "name": "python",
      "nbconvert_exporter": "python",
      "pygments_lexer": "ipython3",
      "version": "3.9.6"
    },
    "colab": {
      "provenance": [],
      "include_colab_link": true
    }
  },
  "nbformat": 4,
  "nbformat_minor": 0
}